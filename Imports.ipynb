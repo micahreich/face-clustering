{
 "cells": [
  {
   "cell_type": "code",
   "execution_count": 1,
   "id": "83aeccb9",
   "metadata": {},
   "outputs": [
    {
     "name": "stderr",
     "output_type": "stream",
     "text": [
      "\u001b[32m\u001b[1m    Updating\u001b[22m\u001b[39m registry at `~/.julia/registries/General`\n",
      "\u001b[32m\u001b[1m   Resolving\u001b[22m\u001b[39m package versions...\n",
      "\u001b[32m\u001b[1m   Installed\u001b[22m\u001b[39m PoissonRandom ─ v0.4.0\n",
      "\u001b[32m\u001b[1m   Installed\u001b[22m\u001b[39m Noise ───────── v0.3.2\n",
      "\u001b[32m\u001b[1m    Updating\u001b[22m\u001b[39m `~/.julia/environments/v1.6/Project.toml`\n",
      " \u001b[90m [81d43f40] \u001b[39m\u001b[92m+ Noise v0.3.2\u001b[39m\n",
      "\u001b[32m\u001b[1m    Updating\u001b[22m\u001b[39m `~/.julia/environments/v1.6/Manifest.toml`\n",
      " \u001b[90m [81d43f40] \u001b[39m\u001b[92m+ Noise v0.3.2\u001b[39m\n",
      " \u001b[90m [e409e4f3] \u001b[39m\u001b[92m+ PoissonRandom v0.4.0\u001b[39m\n",
      "\u001b[32m\u001b[1mPrecompiling\u001b[22m\u001b[39m project...\n",
      "\u001b[32m  ✓ \u001b[39m\u001b[90mPoissonRandom\u001b[39m\n",
      "\u001b[32m  ✓ \u001b[39mNoise\n",
      "  2 dependencies successfully precompiled in 3 seconds (269 already precompiled)\n"
     ]
    }
   ],
   "source": [
    "import Pkg\n",
    "# Pkg.add(\"MLDatasets\")\n",
    "# Pkg.add(\"Plots\")\n",
    "# Pkg.add(\"LinearAlgebra\")\n",
    "# Pkg.add(\"Clustering\")\n",
    "# Pkg.add(\"ImageCore\")\n",
    "# Pkg.add(\"Images\")\n",
    "# Pkg.add(\"MultivariateStats\")\n",
    "# Pkg.add(PyPlot)\n",
    "# Pkg.add(\"StatsBase\")\n",
    "Pkg.add(\"Noise\")"
   ]
  }
 ],
 "metadata": {
  "kernelspec": {
   "display_name": "Julia 1.6.2",
   "language": "julia",
   "name": "julia-1.6"
  },
  "language_info": {
   "file_extension": ".jl",
   "mimetype": "application/julia",
   "name": "julia",
   "version": "1.6.2"
  }
 },
 "nbformat": 4,
 "nbformat_minor": 5
}
