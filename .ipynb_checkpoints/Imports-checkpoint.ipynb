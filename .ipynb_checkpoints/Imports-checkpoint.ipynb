{
 "cells": [
  {
   "cell_type": "code",
   "execution_count": null,
   "id": "83aeccb9",
   "metadata": {},
   "outputs": [],
   "source": [
    "import Pkg\n",
    "Pkg.add(\"MLDatasets\")\n",
    "Pkg.add(\"Plots\")\n",
    "Pkg.add(\"LinearAlgebra\")\n",
    "Pkg.add(\"Clustering\")\n",
    "Pkg.add(\"ImageCore\")\n",
    "Pkg.add(\"Images\")\n",
    "Pkg.add(\"MultivariateStats\")"
   ]
  }
 ],
 "metadata": {
  "kernelspec": {
   "display_name": "Julia 1.6.2",
   "language": "julia",
   "name": "julia-1.6"
  },
  "language_info": {
   "file_extension": ".jl",
   "mimetype": "application/julia",
   "name": "julia",
   "version": "1.6.2"
  }
 },
 "nbformat": 4,
 "nbformat_minor": 5
}
