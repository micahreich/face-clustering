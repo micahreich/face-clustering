{
 "cells": [
  {
   "cell_type": "markdown",
   "metadata": {},
   "source": [
    "##### First create random m x n matrix (for testing)"
   ]
  },
  {
   "cell_type": "code",
   "execution_count": 18,
   "metadata": {},
   "outputs": [
    {
     "data": {
      "text/plain": [
       "6"
      ]
     },
     "execution_count": 18,
     "metadata": {},
     "output_type": "execute_result"
    }
   ],
   "source": [
    "using LinearAlgebra\n",
    "m = 5\n",
    "n = 6"
   ]
  },
  {
   "cell_type": "code",
   "execution_count": 20,
   "metadata": {},
   "outputs": [
    {
     "data": {
      "text/plain": [
       "5×6 Matrix{Float64}:\n",
       " 0.931131  0.225801  0.19987    0.125098    0.665305  0.603377\n",
       " 0.368508  0.536005  0.265134   0.00749315  0.125406  0.518333\n",
       " 0.969672  0.562716  0.919083   0.598238    0.254669  0.064124\n",
       " 0.165669  0.401141  0.842627   0.719299    0.630753  0.208987\n",
       " 0.204012  0.251311  0.0887717  0.916985    0.958358  0.684381"
      ]
     },
     "execution_count": 20,
     "metadata": {},
     "output_type": "execute_result"
    }
   ],
   "source": [
    "M = rand(m, n)"
   ]
  },
  {
   "cell_type": "markdown",
   "metadata": {},
   "source": [
    "### Using Julia's Built in SVD"
   ]
  },
  {
   "cell_type": "code",
   "execution_count": 21,
   "metadata": {},
   "outputs": [
    {
     "name": "stdout",
     "output_type": "stream",
     "text": [
      "false\n"
     ]
    }
   ],
   "source": [
    "svd_decomp = svd(M)\n",
    "U = svd_decomp.U\n",
    "S = svd_decomp.S\n",
    "Vt = svd_decomp.Vt\n",
    "println(M == (U*Diagonal(S)*Vt))"
   ]
  },
  {
   "cell_type": "markdown",
   "metadata": {},
   "source": [
    "The reason the above prints false is due to Julia having some rounding errors. If I did a simpler matrix with whole numbers or smaller decimals, this would return true. Something to keep in mind..."
   ]
  },
  {
   "cell_type": "markdown",
   "metadata": {},
   "source": [
    "### Calculating SVD Manually"
   ]
  },
  {
   "cell_type": "markdown",
   "metadata": {},
   "source": [
    "Turns out we don't have to do this :) thanks Prof Offner"
   ]
  },
  {
   "cell_type": "markdown",
   "metadata": {},
   "source": [
    "### Using Multivariate Statistics Package for PCA"
   ]
  },
  {
   "cell_type": "code",
   "execution_count": 41,
   "metadata": {},
   "outputs": [
    {
     "data": {
      "text/plain": [
       "PCA(indim = 5, outdim = 3, principalratio = 0.9693543303058743)"
      ]
     },
     "execution_count": 41,
     "metadata": {},
     "output_type": "execute_result"
    }
   ],
   "source": [
    "using MultivariateStats\n",
    "model = fit(PCA, M; maxoutdim=3)"
   ]
  },
  {
   "cell_type": "markdown",
   "metadata": {},
   "source": [
    "Construct our PCA model, using a certain number of output dimensions (determines how many principal components we use, similar to the number of dimensions of our latent representation). For MNIST, we need to decide how many principal components vectors we wish to use as the basis of our projection."
   ]
  },
  {
   "cell_type": "code",
   "execution_count": 42,
   "metadata": {},
   "outputs": [
    {
     "data": {
      "text/plain": [
       "3×6 Matrix{Float64}:\n",
       " -0.504537  -0.24323    -0.542985    0.319108   0.563149    0.408496\n",
       "  0.485235   0.0172151  -0.428341   -0.515161   0.00418984  0.436862\n",
       " -0.326628   0.352592    0.0488247  -0.120233  -0.211575    0.25702"
      ]
     },
     "execution_count": 42,
     "metadata": {},
     "output_type": "execute_result"
    }
   ],
   "source": [
    "Yte = transform(model, M)"
   ]
  },
  {
   "cell_type": "markdown",
   "metadata": {},
   "source": [
    "Transform observation matrix M into principal components "
   ]
  },
  {
   "cell_type": "code",
   "execution_count": 43,
   "metadata": {},
   "outputs": [
    {
     "data": {
      "text/plain": [
       "5×6 Matrix{Float64}:\n",
       " 0.959954  0.252181  0.136577  0.2015     0.601397  0.598972\n",
       " 0.371931  0.529258  0.263181  0.0186769  0.11163   0.526203\n",
       " 0.94412   0.533674  0.978378  0.531716   0.307783  0.0728325\n",
       " 0.210877  0.440413  0.744539  0.839581   0.529198  0.203866\n",
       " 0.180491  0.223122  0.144172  0.856061   1.00634   0.693633"
      ]
     },
     "execution_count": 43,
     "metadata": {},
     "output_type": "execute_result"
    }
   ],
   "source": [
    "reconstruct(model, Yte)"
   ]
  },
  {
   "cell_type": "markdown",
   "metadata": {},
   "source": [
    "Get a reconstructed matrix from the principal components of M, Notice how increased number of principal components leads to better reconstructions of the original data matrix."
   ]
  }
 ],
 "metadata": {
  "kernelspec": {
   "display_name": "Julia 1.6.2",
   "language": "julia",
   "name": "julia-1.6"
  },
  "language_info": {
   "file_extension": ".jl",
   "mimetype": "application/julia",
   "name": "julia",
   "version": "1.6.2"
  }
 },
 "nbformat": 4,
 "nbformat_minor": 4
}
